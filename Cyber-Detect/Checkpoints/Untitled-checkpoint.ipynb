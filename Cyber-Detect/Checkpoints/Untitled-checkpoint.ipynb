{
 "cells": [
  {
   "cell_type": "markdown",
   "id": "6df7d380",
   "metadata": {},
   "source": [
    "# 1. Explore the dataset to understand the characteristics and distributions of different features."
   ]
  },
  {
   "cell_type": "markdown",
   "id": "681a3d83",
   "metadata": {},
   "source": [
    "# import all liberaries here"
   ]
  },
  {
   "cell_type": "code",
   "execution_count": 2,
   "id": "ca4661e4",
   "metadata": {},
   "outputs": [],
   "source": [
    "import pandas as pd"
   ]
  },
  {
   "cell_type": "code",
   "execution_count": 3,
   "id": "2d53ac49",
   "metadata": {},
   "outputs": [],
   "source": [
    "\n",
    "# Load the datasets\n",
    "attack_types = pd.read_csv(\"attack_types.txt\", header=None, names=[\"attack_type\"])"
   ]
  },
  {
   "cell_type": "code",
   "execution_count": 4,
   "id": "a9d25fef",
   "metadata": {},
   "outputs": [],
   "source": [
    "\n",
    "dataset = pd.read_csv(\"Dataset.csv\", header=None, names=[\"duration\", \"protocol_type\", \"service\", \"src_bytes\", \"dst_bytes\", \"hot\", \"num_failed_logins\", \"logged_in\", \"num_compromised\", \"root_shell\", \"su_attempted\", \"num_root\", \"num_file_creations\", \"num_shells\", \"num_access_files\", \"num_outbound_cmds\", \"is_host_login\", \"is_guest_login\", \"count\", \"srv_count\", \"serror_rate\", \"srv_serror_rate\", \"rerror_rate\", \"srv_rerror_rate\", \"same_srv_rate\", \"diff_srv_rate\", \"srv_diff_host_rate\", \"dst_host_count\", \"dst_host_srv_count\", \"dst_host_same_srv_rate\", \"dst_host_diff_srv_rate\", \"dst_host_same_src_port_rate\", \"dst_host_srv_diff_host_rate\", \"dst_host_serror_rate\", \"dst_host_srv_serror_rate\", \"dst_host_rerror_rate\", \"dst_host_srv_rerror_rate\", \"attack_category\", \"occurrence\"], low_memory=False)"
   ]
  },
  {
   "cell_type": "code",
   "execution_count": 5,
   "id": "cde1f408",
   "metadata": {},
   "outputs": [
    {
     "name": "stdout",
     "output_type": "stream",
     "text": [
      "                                       duration protocol_type service  \\\n",
      "duration protocol_type service  flag  src_bytes     dst_bytes    land   \n",
      "0        tcp           ftp_data SF          491             0       0   \n",
      "         udp           other    SF          146             0       0   \n",
      "         tcp           private  S0            0             0       0   \n",
      "                       http     SF          232          8153       0   \n",
      "\n",
      "                                           src_bytes dst_bytes  hot  \\\n",
      "duration protocol_type service  flag  wrong_fragment    urgent  hot   \n",
      "0        tcp           ftp_data SF                 0         0    0   \n",
      "         udp           other    SF                 0         0    0   \n",
      "         tcp           private  S0                 0         0    0   \n",
      "                       http     SF                 0         0    0   \n",
      "\n",
      "                                      num_failed_logins  logged_in  \\\n",
      "duration protocol_type service  flag  num_failed_logins  logged_in   \n",
      "0        tcp           ftp_data SF                    0          0   \n",
      "         udp           other    SF                    0          0   \n",
      "         tcp           private  S0                    0          0   \n",
      "                       http     SF                    0          1   \n",
      "\n",
      "                                      num_compromised  root_shell  ...  \\\n",
      "duration protocol_type service  flag  num_compromised  root_shell  ...   \n",
      "0        tcp           ftp_data SF                  0           0  ...   \n",
      "         udp           other    SF                  0           0  ...   \n",
      "         tcp           private  S0                  0           0  ...   \n",
      "                       http     SF                  0           0  ...   \n",
      "\n",
      "                                      dst_host_same_srv_rate  \\\n",
      "duration protocol_type service  flag  dst_host_same_srv_rate   \n",
      "0        tcp           ftp_data SF                      0.17   \n",
      "         udp           other    SF                         0   \n",
      "         tcp           private  S0                       0.1   \n",
      "                       http     SF                         1   \n",
      "\n",
      "                                      dst_host_diff_srv_rate  \\\n",
      "duration protocol_type service  flag  dst_host_diff_srv_rate   \n",
      "0        tcp           ftp_data SF                      0.03   \n",
      "         udp           other    SF                       0.6   \n",
      "         tcp           private  S0                      0.05   \n",
      "                       http     SF                         0   \n",
      "\n",
      "                                      dst_host_same_src_port_rate  \\\n",
      "duration protocol_type service  flag  dst_host_same_src_port_rate   \n",
      "0        tcp           ftp_data SF                           0.17   \n",
      "         udp           other    SF                           0.88   \n",
      "         tcp           private  S0                              0   \n",
      "                       http     SF                           0.03   \n",
      "\n",
      "                                      dst_host_srv_diff_host_rate  \\\n",
      "duration protocol_type service  flag  dst_host_srv_diff_host_rate   \n",
      "0        tcp           ftp_data SF                              0   \n",
      "         udp           other    SF                              0   \n",
      "         tcp           private  S0                              0   \n",
      "                       http     SF                           0.04   \n",
      "\n",
      "                                      dst_host_serror_rate  \\\n",
      "duration protocol_type service  flag  dst_host_serror_rate   \n",
      "0        tcp           ftp_data SF                       0   \n",
      "         udp           other    SF                       0   \n",
      "         tcp           private  S0                       1   \n",
      "                       http     SF                    0.03   \n",
      "\n",
      "                                      dst_host_srv_serror_rate  \\\n",
      "duration protocol_type service  flag  dst_host_srv_serror_rate   \n",
      "0        tcp           ftp_data SF                           0   \n",
      "         udp           other    SF                           0   \n",
      "         tcp           private  S0                           1   \n",
      "                       http     SF                        0.01   \n",
      "\n",
      "                                      dst_host_rerror_rate  \\\n",
      "duration protocol_type service  flag  dst_host_rerror_rate   \n",
      "0        tcp           ftp_data SF                    0.05   \n",
      "         udp           other    SF                       0   \n",
      "         tcp           private  S0                       0   \n",
      "                       http     SF                       0   \n",
      "\n",
      "                                      dst_host_srv_rerror_rate  \\\n",
      "duration protocol_type service  flag  dst_host_srv_rerror_rate   \n",
      "0        tcp           ftp_data SF                           0   \n",
      "         udp           other    SF                           0   \n",
      "         tcp           private  S0                           0   \n",
      "                       http     SF                        0.01   \n",
      "\n",
      "                                      attack_category occurrence  \n",
      "duration protocol_type service  flag  attack_category  occurance  \n",
      "0        tcp           ftp_data SF             normal         20  \n",
      "         udp           other    SF             normal         15  \n",
      "         tcp           private  S0            neptune         19  \n",
      "                       http     SF             normal         21  \n",
      "\n",
      "[5 rows x 39 columns]\n"
     ]
    }
   ],
   "source": [
    "print(dataset.head())"
   ]
  },
  {
   "cell_type": "code",
   "execution_count": 6,
   "id": "f9c60b14",
   "metadata": {},
   "outputs": [
    {
     "name": "stdout",
     "output_type": "stream",
     "text": [
      "                   attack_type\n",
      "0  attack_category attack_type\n",
      "1                  apache2 dos\n",
      "2                     back dos\n",
      "3                 mailbomb dos\n",
      "4             processtable dos\n"
     ]
    }
   ],
   "source": [
    "print(attack_types.head())"
   ]
  },
  {
   "cell_type": "code",
   "execution_count": 7,
   "id": "0c417cb4",
   "metadata": {},
   "outputs": [
    {
     "name": "stdout",
     "output_type": "stream",
     "text": [
      "<class 'pandas.core.frame.DataFrame'>\n",
      "MultiIndex: 125974 entries, ('duration', 'protocol_type', 'service', 'flag') to ('0', 'tcp', 'ftp_data', 'SF')\n",
      "Data columns (total 39 columns):\n",
      " #   Column                       Non-Null Count   Dtype \n",
      "---  ------                       --------------   ----- \n",
      " 0   duration                     125974 non-null  object\n",
      " 1   protocol_type                125974 non-null  object\n",
      " 2   service                      125974 non-null  object\n",
      " 3   src_bytes                    125974 non-null  object\n",
      " 4   dst_bytes                    125974 non-null  object\n",
      " 5   hot                          125974 non-null  object\n",
      " 6   num_failed_logins            125974 non-null  object\n",
      " 7   logged_in                    125974 non-null  object\n",
      " 8   num_compromised              125974 non-null  object\n",
      " 9   root_shell                   125974 non-null  object\n",
      " 10  su_attempted                 125974 non-null  object\n",
      " 11  num_root                     125974 non-null  object\n",
      " 12  num_file_creations           125974 non-null  object\n",
      " 13  num_shells                   125974 non-null  object\n",
      " 14  num_access_files             125974 non-null  object\n",
      " 15  num_outbound_cmds            125974 non-null  object\n",
      " 16  is_host_login                125974 non-null  object\n",
      " 17  is_guest_login               125974 non-null  object\n",
      " 18  count                        125974 non-null  object\n",
      " 19  srv_count                    125974 non-null  object\n",
      " 20  serror_rate                  125974 non-null  object\n",
      " 21  srv_serror_rate              125974 non-null  object\n",
      " 22  rerror_rate                  125974 non-null  object\n",
      " 23  srv_rerror_rate              125974 non-null  object\n",
      " 24  same_srv_rate                125974 non-null  object\n",
      " 25  diff_srv_rate                125974 non-null  object\n",
      " 26  srv_diff_host_rate           125974 non-null  object\n",
      " 27  dst_host_count               125974 non-null  object\n",
      " 28  dst_host_srv_count           125974 non-null  object\n",
      " 29  dst_host_same_srv_rate       125974 non-null  object\n",
      " 30  dst_host_diff_srv_rate       125974 non-null  object\n",
      " 31  dst_host_same_src_port_rate  125974 non-null  object\n",
      " 32  dst_host_srv_diff_host_rate  125974 non-null  object\n",
      " 33  dst_host_serror_rate         125974 non-null  object\n",
      " 34  dst_host_srv_serror_rate     125974 non-null  object\n",
      " 35  dst_host_rerror_rate         125974 non-null  object\n",
      " 36  dst_host_srv_rerror_rate     125974 non-null  object\n",
      " 37  attack_category              125974 non-null  object\n",
      " 38  occurrence                   125974 non-null  object\n",
      "dtypes: object(39)\n",
      "memory usage: 38.2+ MB\n"
     ]
    }
   ],
   "source": [
    "dataset.info()"
   ]
  },
  {
   "cell_type": "code",
   "execution_count": 8,
   "id": "e7f9ad60",
   "metadata": {},
   "outputs": [
    {
     "name": "stdout",
     "output_type": "stream",
     "text": [
      "['attack_category attack_type' 'apache2 dos' 'back dos' 'mailbomb dos'\n",
      " 'processtable dos' 'snmpgetattack dos' 'teardrop dos' 'smurf dos'\n",
      " 'land dos' 'neptune dos' 'pod dos' 'udpstorm dos' 'ps u2r'\n",
      " 'buffer_overflow u2r' 'perl u2r' 'rootkit u2r' 'loadmodule u2r'\n",
      " 'xterm u2r' 'sqlattack u2r' 'httptunnel u2r' 'ftp_write r2l'\n",
      " 'guess_passwd r2l' 'snmpguess r2l' 'imap r2l' 'spy r2l' 'warezclient r2l'\n",
      " 'warezmaster r2l' 'multihop r2l' 'phf r2l' 'named r2l' 'sendmail r2l'\n",
      " 'xlock r2l' 'xsnoop r2l' 'worm r2l' 'nmap probe' 'ipsweep probe'\n",
      " 'portsweep probe' 'satan probe' 'mscan probe' 'saint probe' 'worm probe']\n"
     ]
    }
   ],
   "source": [
    "# Explore the \"Attack_type.txt\" dataset:\n",
    "unique_attack_types = attack_types['attack_type'].unique()\n",
    "frequency_attack_types = attack_types['attack_type'].value_counts()\n",
    "print(unique_attack_types)\n",
    "\n"
   ]
  },
  {
   "cell_type": "code",
   "execution_count": 9,
   "id": "4edf9987",
   "metadata": {},
   "outputs": [
    {
     "name": "stdout",
     "output_type": "stream",
     "text": [
      "imap r2l                       2\n",
      "attack_category attack_type    1\n",
      "guess_passwd r2l               1\n",
      "spy r2l                        1\n",
      "warezclient r2l                1\n",
      "warezmaster r2l                1\n",
      "multihop r2l                   1\n",
      "phf r2l                        1\n",
      "named r2l                      1\n",
      "sendmail r2l                   1\n",
      "xlock r2l                      1\n",
      "xsnoop r2l                     1\n",
      "worm r2l                       1\n",
      "nmap probe                     1\n",
      "ipsweep probe                  1\n",
      "portsweep probe                1\n",
      "satan probe                    1\n",
      "mscan probe                    1\n",
      "saint probe                    1\n",
      "snmpguess r2l                  1\n",
      "ftp_write r2l                  1\n",
      "apache2 dos                    1\n",
      "httptunnel u2r                 1\n",
      "back dos                       1\n",
      "mailbomb dos                   1\n",
      "processtable dos               1\n",
      "snmpgetattack dos              1\n",
      "teardrop dos                   1\n",
      "smurf dos                      1\n",
      "land dos                       1\n",
      "neptune dos                    1\n",
      "pod dos                        1\n",
      "udpstorm dos                   1\n",
      "ps u2r                         1\n",
      "buffer_overflow u2r            1\n",
      "perl u2r                       1\n",
      "rootkit u2r                    1\n",
      "loadmodule u2r                 1\n",
      "xterm u2r                      1\n",
      "sqlattack u2r                  1\n",
      "worm probe                     1\n",
      "Name: attack_type, dtype: int64\n"
     ]
    }
   ],
   "source": [
    "print(frequency_attack_types)"
   ]
  },
  {
   "cell_type": "code",
   "execution_count": 10,
   "id": "e5e9c5cc",
   "metadata": {},
   "outputs": [
    {
     "name": "stdout",
     "output_type": "stream",
     "text": [
      "Index(['duration', 'protocol_type', 'service', 'src_bytes', 'dst_bytes', 'hot',\n",
      "       'num_failed_logins', 'logged_in', 'num_compromised', 'root_shell',\n",
      "       'su_attempted', 'num_root', 'num_file_creations', 'num_shells',\n",
      "       'num_access_files', 'num_outbound_cmds', 'is_host_login',\n",
      "       'is_guest_login', 'count', 'srv_count', 'serror_rate',\n",
      "       'srv_serror_rate', 'rerror_rate', 'srv_rerror_rate', 'same_srv_rate',\n",
      "       'diff_srv_rate', 'srv_diff_host_rate', 'dst_host_count',\n",
      "       'dst_host_srv_count', 'dst_host_same_srv_rate',\n",
      "       'dst_host_diff_srv_rate', 'dst_host_same_src_port_rate',\n",
      "       'dst_host_srv_diff_host_rate', 'dst_host_serror_rate',\n",
      "       'dst_host_srv_serror_rate', 'dst_host_rerror_rate',\n",
      "       'dst_host_srv_rerror_rate', 'attack_category', 'occurrence'],\n",
      "      dtype='object')\n"
     ]
    }
   ],
   "source": [
    "print(dataset.columns)\n",
    "\n",
    "# Drop irrelevant features\n",
    "features_to_drop = ['flag', 'land', 'wrong_fragment', 'urgent']\n",
    "for feature in features_to_drop:\n",
    "    if feature in dataset.columns:\n",
    "        dataset = dataset.drop(feature, axis=1)"
   ]
  },
  {
   "cell_type": "code",
   "execution_count": 11,
   "id": "97bbf1e1",
   "metadata": {},
   "outputs": [
    {
     "name": "stdout",
     "output_type": "stream",
     "text": [
      "Index(['duration', 'protocol_type', 'service', 'src_bytes', 'dst_bytes', 'hot',\n",
      "       'num_failed_logins', 'logged_in', 'num_compromised', 'root_shell',\n",
      "       'su_attempted', 'num_root', 'num_file_creations', 'num_shells',\n",
      "       'num_access_files', 'num_outbound_cmds', 'is_host_login',\n",
      "       'is_guest_login', 'count', 'srv_count', 'serror_rate',\n",
      "       'srv_serror_rate', 'rerror_rate', 'srv_rerror_rate', 'same_srv_rate',\n",
      "       'diff_srv_rate', 'srv_diff_host_rate', 'dst_host_count',\n",
      "       'dst_host_srv_count', 'dst_host_same_srv_rate',\n",
      "       'dst_host_diff_srv_rate', 'dst_host_same_src_port_rate',\n",
      "       'dst_host_srv_diff_host_rate', 'dst_host_serror_rate',\n",
      "       'dst_host_srv_serror_rate', 'dst_host_rerror_rate',\n",
      "       'dst_host_srv_rerror_rate', 'attack_category', 'occurrence'],\n",
      "      dtype='object')\n"
     ]
    }
   ],
   "source": [
    "print(dataset.columns)"
   ]
  },
  {
   "cell_type": "markdown",
   "id": "99045c11",
   "metadata": {},
   "source": [
    "# 2. Perform data preprocessing on the dataset by cleaning the data, handling missing values, outliers, and feature scaling."
   ]
  },
  {
   "cell_type": "code",
   "execution_count": 12,
   "id": "ed521b7b",
   "metadata": {},
   "outputs": [],
   "source": [
    "\n",
    "# Handle missing data\n",
    "dataset = dataset.dropna()\n"
   ]
  },
  {
   "cell_type": "code",
   "execution_count": 13,
   "id": "a87a0d27",
   "metadata": {},
   "outputs": [
    {
     "name": "stdout",
     "output_type": "stream",
     "text": [
      "['src_bytes' '491' '146' ... '2816' '11466' '2358']\n"
     ]
    }
   ],
   "source": [
    "print(dataset[\"duration\"].unique())\n",
    "dataset = dataset[pd.to_numeric(dataset['duration'], errors='coerce').notnull()]\n",
    "dataset[\"duration\"] = dataset[\"duration\"].astype(int)\n"
   ]
  },
  {
   "cell_type": "code",
   "execution_count": 14,
   "id": "b8ac9976",
   "metadata": {},
   "outputs": [],
   "source": [
    "\n",
    "# Convert data types\n",
    "dataset[\"duration\"] = dataset[\"duration\"].astype(int)\n",
    "dataset[\"src_bytes\"] = dataset[\"src_bytes\"].astype(int)\n",
    "dataset[\"dst_bytes\"] = dataset[\"dst_bytes\"].astype(int)\n"
   ]
  },
  {
   "cell_type": "code",
   "execution_count": 15,
   "id": "747ff11d",
   "metadata": {},
   "outputs": [
    {
     "name": "stdout",
     "output_type": "stream",
     "text": [
      "duration                        int32\n",
      "protocol_type                  object\n",
      "service                        object\n",
      "src_bytes                       int32\n",
      "dst_bytes                       int32\n",
      "hot                            object\n",
      "num_failed_logins              object\n",
      "logged_in                      object\n",
      "num_compromised                object\n",
      "root_shell                     object\n",
      "su_attempted                   object\n",
      "num_root                       object\n",
      "num_file_creations             object\n",
      "num_shells                     object\n",
      "num_access_files               object\n",
      "num_outbound_cmds              object\n",
      "is_host_login                  object\n",
      "is_guest_login                 object\n",
      "count                          object\n",
      "srv_count                      object\n",
      "serror_rate                    object\n",
      "srv_serror_rate                object\n",
      "rerror_rate                    object\n",
      "srv_rerror_rate                object\n",
      "same_srv_rate                  object\n",
      "diff_srv_rate                  object\n",
      "srv_diff_host_rate             object\n",
      "dst_host_count                 object\n",
      "dst_host_srv_count             object\n",
      "dst_host_same_srv_rate         object\n",
      "dst_host_diff_srv_rate         object\n",
      "dst_host_same_src_port_rate    object\n",
      "dst_host_srv_diff_host_rate    object\n",
      "dst_host_serror_rate           object\n",
      "dst_host_srv_serror_rate       object\n",
      "dst_host_rerror_rate           object\n",
      "dst_host_srv_rerror_rate       object\n",
      "attack_category                object\n",
      "occurrence                     object\n",
      "dtype: object\n"
     ]
    },
    {
     "ename": "TypeError",
     "evalue": "unsupported operand type(s) for -: 'str' and 'str'",
     "output_type": "error",
     "traceback": [
      "\u001b[1;31m---------------------------------------------------------------------------\u001b[0m",
      "\u001b[1;31mTypeError\u001b[0m                                 Traceback (most recent call last)",
      "\u001b[1;32mC:\\ProgramData\\Anaconda3\\lib\\site-packages\\pandas\\core\\ops\\array_ops.py\u001b[0m in \u001b[0;36m_na_arithmetic_op\u001b[1;34m(left, right, op, is_cmp)\u001b[0m\n\u001b[0;32m    162\u001b[0m     \u001b[1;32mtry\u001b[0m\u001b[1;33m:\u001b[0m\u001b[1;33m\u001b[0m\u001b[1;33m\u001b[0m\u001b[0m\n\u001b[1;32m--> 163\u001b[1;33m         \u001b[0mresult\u001b[0m \u001b[1;33m=\u001b[0m \u001b[0mfunc\u001b[0m\u001b[1;33m(\u001b[0m\u001b[0mleft\u001b[0m\u001b[1;33m,\u001b[0m \u001b[0mright\u001b[0m\u001b[1;33m)\u001b[0m\u001b[1;33m\u001b[0m\u001b[1;33m\u001b[0m\u001b[0m\n\u001b[0m\u001b[0;32m    164\u001b[0m     \u001b[1;32mexcept\u001b[0m \u001b[0mTypeError\u001b[0m\u001b[1;33m:\u001b[0m\u001b[1;33m\u001b[0m\u001b[1;33m\u001b[0m\u001b[0m\n",
      "\u001b[1;32mC:\\ProgramData\\Anaconda3\\lib\\site-packages\\pandas\\core\\computation\\expressions.py\u001b[0m in \u001b[0;36mevaluate\u001b[1;34m(op, a, b, use_numexpr)\u001b[0m\n\u001b[0;32m    238\u001b[0m             \u001b[1;31m# error: \"None\" not callable\u001b[0m\u001b[1;33m\u001b[0m\u001b[1;33m\u001b[0m\u001b[0m\n\u001b[1;32m--> 239\u001b[1;33m             \u001b[1;32mreturn\u001b[0m \u001b[0m_evaluate\u001b[0m\u001b[1;33m(\u001b[0m\u001b[0mop\u001b[0m\u001b[1;33m,\u001b[0m \u001b[0mop_str\u001b[0m\u001b[1;33m,\u001b[0m \u001b[0ma\u001b[0m\u001b[1;33m,\u001b[0m \u001b[0mb\u001b[0m\u001b[1;33m)\u001b[0m  \u001b[1;31m# type: ignore[misc]\u001b[0m\u001b[1;33m\u001b[0m\u001b[1;33m\u001b[0m\u001b[0m\n\u001b[0m\u001b[0;32m    240\u001b[0m     \u001b[1;32mreturn\u001b[0m \u001b[0m_evaluate_standard\u001b[0m\u001b[1;33m(\u001b[0m\u001b[0mop\u001b[0m\u001b[1;33m,\u001b[0m \u001b[0mop_str\u001b[0m\u001b[1;33m,\u001b[0m \u001b[0ma\u001b[0m\u001b[1;33m,\u001b[0m \u001b[0mb\u001b[0m\u001b[1;33m)\u001b[0m\u001b[1;33m\u001b[0m\u001b[1;33m\u001b[0m\u001b[0m\n",
      "\u001b[1;32mC:\\ProgramData\\Anaconda3\\lib\\site-packages\\pandas\\core\\computation\\expressions.py\u001b[0m in \u001b[0;36m_evaluate_numexpr\u001b[1;34m(op, op_str, a, b)\u001b[0m\n\u001b[0;32m    127\u001b[0m     \u001b[1;32mif\u001b[0m \u001b[0mresult\u001b[0m \u001b[1;32mis\u001b[0m \u001b[1;32mNone\u001b[0m\u001b[1;33m:\u001b[0m\u001b[1;33m\u001b[0m\u001b[1;33m\u001b[0m\u001b[0m\n\u001b[1;32m--> 128\u001b[1;33m         \u001b[0mresult\u001b[0m \u001b[1;33m=\u001b[0m \u001b[0m_evaluate_standard\u001b[0m\u001b[1;33m(\u001b[0m\u001b[0mop\u001b[0m\u001b[1;33m,\u001b[0m \u001b[0mop_str\u001b[0m\u001b[1;33m,\u001b[0m \u001b[0ma\u001b[0m\u001b[1;33m,\u001b[0m \u001b[0mb\u001b[0m\u001b[1;33m)\u001b[0m\u001b[1;33m\u001b[0m\u001b[1;33m\u001b[0m\u001b[0m\n\u001b[0m\u001b[0;32m    129\u001b[0m \u001b[1;33m\u001b[0m\u001b[0m\n",
      "\u001b[1;32mC:\\ProgramData\\Anaconda3\\lib\\site-packages\\pandas\\core\\computation\\expressions.py\u001b[0m in \u001b[0;36m_evaluate_standard\u001b[1;34m(op, op_str, a, b)\u001b[0m\n\u001b[0;32m     68\u001b[0m         \u001b[0m_store_test_result\u001b[0m\u001b[1;33m(\u001b[0m\u001b[1;32mFalse\u001b[0m\u001b[1;33m)\u001b[0m\u001b[1;33m\u001b[0m\u001b[1;33m\u001b[0m\u001b[0m\n\u001b[1;32m---> 69\u001b[1;33m     \u001b[1;32mreturn\u001b[0m \u001b[0mop\u001b[0m\u001b[1;33m(\u001b[0m\u001b[0ma\u001b[0m\u001b[1;33m,\u001b[0m \u001b[0mb\u001b[0m\u001b[1;33m)\u001b[0m\u001b[1;33m\u001b[0m\u001b[1;33m\u001b[0m\u001b[0m\n\u001b[0m\u001b[0;32m     70\u001b[0m \u001b[1;33m\u001b[0m\u001b[0m\n",
      "\u001b[1;31mTypeError\u001b[0m: unsupported operand type(s) for -: 'str' and 'str'",
      "\nDuring handling of the above exception, another exception occurred:\n",
      "\u001b[1;31mTypeError\u001b[0m                                 Traceback (most recent call last)",
      "\u001b[1;32m~\\AppData\\Local\\Temp\\ipykernel_6920\\3170974512.py\u001b[0m in \u001b[0;36m<module>\u001b[1;34m\u001b[0m\n\u001b[0;32m      3\u001b[0m \u001b[1;33m\u001b[0m\u001b[0m\n\u001b[0;32m      4\u001b[0m \u001b[1;31m# Normalize the data\u001b[0m\u001b[1;33m\u001b[0m\u001b[1;33m\u001b[0m\u001b[0m\n\u001b[1;32m----> 5\u001b[1;33m \u001b[0mdataset\u001b[0m \u001b[1;33m=\u001b[0m \u001b[1;33m(\u001b[0m\u001b[0mdataset\u001b[0m \u001b[1;33m-\u001b[0m \u001b[0mdataset\u001b[0m\u001b[1;33m.\u001b[0m\u001b[0mmin\u001b[0m\u001b[1;33m(\u001b[0m\u001b[1;33m)\u001b[0m\u001b[1;33m)\u001b[0m \u001b[1;33m/\u001b[0m \u001b[1;33m(\u001b[0m\u001b[0mdataset\u001b[0m\u001b[1;33m.\u001b[0m\u001b[0mmax\u001b[0m\u001b[1;33m(\u001b[0m\u001b[1;33m)\u001b[0m \u001b[1;33m-\u001b[0m \u001b[0mdataset\u001b[0m\u001b[1;33m.\u001b[0m\u001b[0mmin\u001b[0m\u001b[1;33m(\u001b[0m\u001b[1;33m)\u001b[0m\u001b[1;33m)\u001b[0m\u001b[1;33m\u001b[0m\u001b[1;33m\u001b[0m\u001b[0m\n\u001b[0m",
      "\u001b[1;32mC:\\ProgramData\\Anaconda3\\lib\\site-packages\\pandas\\core\\ops\\common.py\u001b[0m in \u001b[0;36mnew_method\u001b[1;34m(self, other)\u001b[0m\n\u001b[0;32m     68\u001b[0m         \u001b[0mother\u001b[0m \u001b[1;33m=\u001b[0m \u001b[0mitem_from_zerodim\u001b[0m\u001b[1;33m(\u001b[0m\u001b[0mother\u001b[0m\u001b[1;33m)\u001b[0m\u001b[1;33m\u001b[0m\u001b[1;33m\u001b[0m\u001b[0m\n\u001b[0;32m     69\u001b[0m \u001b[1;33m\u001b[0m\u001b[0m\n\u001b[1;32m---> 70\u001b[1;33m         \u001b[1;32mreturn\u001b[0m \u001b[0mmethod\u001b[0m\u001b[1;33m(\u001b[0m\u001b[0mself\u001b[0m\u001b[1;33m,\u001b[0m \u001b[0mother\u001b[0m\u001b[1;33m)\u001b[0m\u001b[1;33m\u001b[0m\u001b[1;33m\u001b[0m\u001b[0m\n\u001b[0m\u001b[0;32m     71\u001b[0m \u001b[1;33m\u001b[0m\u001b[0m\n\u001b[0;32m     72\u001b[0m     \u001b[1;32mreturn\u001b[0m \u001b[0mnew_method\u001b[0m\u001b[1;33m\u001b[0m\u001b[1;33m\u001b[0m\u001b[0m\n",
      "\u001b[1;32mC:\\ProgramData\\Anaconda3\\lib\\site-packages\\pandas\\core\\arraylike.py\u001b[0m in \u001b[0;36m__sub__\u001b[1;34m(self, other)\u001b[0m\n\u001b[0;32m    106\u001b[0m     \u001b[1;33m@\u001b[0m\u001b[0munpack_zerodim_and_defer\u001b[0m\u001b[1;33m(\u001b[0m\u001b[1;34m\"__sub__\"\u001b[0m\u001b[1;33m)\u001b[0m\u001b[1;33m\u001b[0m\u001b[1;33m\u001b[0m\u001b[0m\n\u001b[0;32m    107\u001b[0m     \u001b[1;32mdef\u001b[0m \u001b[0m__sub__\u001b[0m\u001b[1;33m(\u001b[0m\u001b[0mself\u001b[0m\u001b[1;33m,\u001b[0m \u001b[0mother\u001b[0m\u001b[1;33m)\u001b[0m\u001b[1;33m:\u001b[0m\u001b[1;33m\u001b[0m\u001b[1;33m\u001b[0m\u001b[0m\n\u001b[1;32m--> 108\u001b[1;33m         \u001b[1;32mreturn\u001b[0m \u001b[0mself\u001b[0m\u001b[1;33m.\u001b[0m\u001b[0m_arith_method\u001b[0m\u001b[1;33m(\u001b[0m\u001b[0mother\u001b[0m\u001b[1;33m,\u001b[0m \u001b[0moperator\u001b[0m\u001b[1;33m.\u001b[0m\u001b[0msub\u001b[0m\u001b[1;33m)\u001b[0m\u001b[1;33m\u001b[0m\u001b[1;33m\u001b[0m\u001b[0m\n\u001b[0m\u001b[0;32m    109\u001b[0m \u001b[1;33m\u001b[0m\u001b[0m\n\u001b[0;32m    110\u001b[0m     \u001b[1;33m@\u001b[0m\u001b[0munpack_zerodim_and_defer\u001b[0m\u001b[1;33m(\u001b[0m\u001b[1;34m\"__rsub__\"\u001b[0m\u001b[1;33m)\u001b[0m\u001b[1;33m\u001b[0m\u001b[1;33m\u001b[0m\u001b[0m\n",
      "\u001b[1;32mC:\\ProgramData\\Anaconda3\\lib\\site-packages\\pandas\\core\\frame.py\u001b[0m in \u001b[0;36m_arith_method\u001b[1;34m(self, other, op)\u001b[0m\n\u001b[0;32m   6953\u001b[0m         \u001b[0mself\u001b[0m\u001b[1;33m,\u001b[0m \u001b[0mother\u001b[0m \u001b[1;33m=\u001b[0m \u001b[0mops\u001b[0m\u001b[1;33m.\u001b[0m\u001b[0malign_method_FRAME\u001b[0m\u001b[1;33m(\u001b[0m\u001b[0mself\u001b[0m\u001b[1;33m,\u001b[0m \u001b[0mother\u001b[0m\u001b[1;33m,\u001b[0m \u001b[0maxis\u001b[0m\u001b[1;33m,\u001b[0m \u001b[0mflex\u001b[0m\u001b[1;33m=\u001b[0m\u001b[1;32mTrue\u001b[0m\u001b[1;33m,\u001b[0m \u001b[0mlevel\u001b[0m\u001b[1;33m=\u001b[0m\u001b[1;32mNone\u001b[0m\u001b[1;33m)\u001b[0m\u001b[1;33m\u001b[0m\u001b[1;33m\u001b[0m\u001b[0m\n\u001b[0;32m   6954\u001b[0m \u001b[1;33m\u001b[0m\u001b[0m\n\u001b[1;32m-> 6955\u001b[1;33m         \u001b[0mnew_data\u001b[0m \u001b[1;33m=\u001b[0m \u001b[0mself\u001b[0m\u001b[1;33m.\u001b[0m\u001b[0m_dispatch_frame_op\u001b[0m\u001b[1;33m(\u001b[0m\u001b[0mother\u001b[0m\u001b[1;33m,\u001b[0m \u001b[0mop\u001b[0m\u001b[1;33m,\u001b[0m \u001b[0maxis\u001b[0m\u001b[1;33m=\u001b[0m\u001b[0maxis\u001b[0m\u001b[1;33m)\u001b[0m\u001b[1;33m\u001b[0m\u001b[1;33m\u001b[0m\u001b[0m\n\u001b[0m\u001b[0;32m   6956\u001b[0m         \u001b[1;32mreturn\u001b[0m \u001b[0mself\u001b[0m\u001b[1;33m.\u001b[0m\u001b[0m_construct_result\u001b[0m\u001b[1;33m(\u001b[0m\u001b[0mnew_data\u001b[0m\u001b[1;33m)\u001b[0m\u001b[1;33m\u001b[0m\u001b[1;33m\u001b[0m\u001b[0m\n\u001b[0;32m   6957\u001b[0m \u001b[1;33m\u001b[0m\u001b[0m\n",
      "\u001b[1;32mC:\\ProgramData\\Anaconda3\\lib\\site-packages\\pandas\\core\\frame.py\u001b[0m in \u001b[0;36m_dispatch_frame_op\u001b[1;34m(self, right, func, axis)\u001b[0m\n\u001b[0;32m   6992\u001b[0m             \u001b[1;31m# TODO operate_blockwise expects a manager of the same type\u001b[0m\u001b[1;33m\u001b[0m\u001b[1;33m\u001b[0m\u001b[0m\n\u001b[0;32m   6993\u001b[0m             \u001b[1;32mwith\u001b[0m \u001b[0mnp\u001b[0m\u001b[1;33m.\u001b[0m\u001b[0merrstate\u001b[0m\u001b[1;33m(\u001b[0m\u001b[0mall\u001b[0m\u001b[1;33m=\u001b[0m\u001b[1;34m\"ignore\"\u001b[0m\u001b[1;33m)\u001b[0m\u001b[1;33m:\u001b[0m\u001b[1;33m\u001b[0m\u001b[1;33m\u001b[0m\u001b[0m\n\u001b[1;32m-> 6994\u001b[1;33m                 bm = self._mgr.operate_blockwise(\n\u001b[0m\u001b[0;32m   6995\u001b[0m                     \u001b[1;31m# error: Argument 1 to \"operate_blockwise\" of \"ArrayManager\" has\u001b[0m\u001b[1;33m\u001b[0m\u001b[1;33m\u001b[0m\u001b[0m\n\u001b[0;32m   6996\u001b[0m                     \u001b[1;31m# incompatible type \"Union[ArrayManager, BlockManager]\"; expected\u001b[0m\u001b[1;33m\u001b[0m\u001b[1;33m\u001b[0m\u001b[0m\n",
      "\u001b[1;32mC:\\ProgramData\\Anaconda3\\lib\\site-packages\\pandas\\core\\internals\\managers.py\u001b[0m in \u001b[0;36moperate_blockwise\u001b[1;34m(self, other, array_op)\u001b[0m\n\u001b[0;32m   1417\u001b[0m         \u001b[0mApply\u001b[0m \u001b[0marray_op\u001b[0m \u001b[0mblockwise\u001b[0m \u001b[1;32mwith\u001b[0m \u001b[0manother\u001b[0m \u001b[1;33m(\u001b[0m\u001b[0maligned\u001b[0m\u001b[1;33m)\u001b[0m \u001b[0mBlockManager\u001b[0m\u001b[1;33m.\u001b[0m\u001b[1;33m\u001b[0m\u001b[1;33m\u001b[0m\u001b[0m\n\u001b[0;32m   1418\u001b[0m         \"\"\"\n\u001b[1;32m-> 1419\u001b[1;33m         \u001b[1;32mreturn\u001b[0m \u001b[0moperate_blockwise\u001b[0m\u001b[1;33m(\u001b[0m\u001b[0mself\u001b[0m\u001b[1;33m,\u001b[0m \u001b[0mother\u001b[0m\u001b[1;33m,\u001b[0m \u001b[0marray_op\u001b[0m\u001b[1;33m)\u001b[0m\u001b[1;33m\u001b[0m\u001b[1;33m\u001b[0m\u001b[0m\n\u001b[0m\u001b[0;32m   1420\u001b[0m \u001b[1;33m\u001b[0m\u001b[0m\n\u001b[0;32m   1421\u001b[0m     \u001b[1;32mdef\u001b[0m \u001b[0m_equal_values\u001b[0m\u001b[1;33m(\u001b[0m\u001b[0mself\u001b[0m\u001b[1;33m:\u001b[0m \u001b[0mBlockManager\u001b[0m\u001b[1;33m,\u001b[0m \u001b[0mother\u001b[0m\u001b[1;33m:\u001b[0m \u001b[0mBlockManager\u001b[0m\u001b[1;33m)\u001b[0m \u001b[1;33m->\u001b[0m \u001b[0mbool\u001b[0m\u001b[1;33m:\u001b[0m\u001b[1;33m\u001b[0m\u001b[1;33m\u001b[0m\u001b[0m\n",
      "\u001b[1;32mC:\\ProgramData\\Anaconda3\\lib\\site-packages\\pandas\\core\\internals\\ops.py\u001b[0m in \u001b[0;36moperate_blockwise\u001b[1;34m(left, right, array_op)\u001b[0m\n\u001b[0;32m     61\u001b[0m     \u001b[0mres_blks\u001b[0m\u001b[1;33m:\u001b[0m \u001b[0mlist\u001b[0m\u001b[1;33m[\u001b[0m\u001b[0mBlock\u001b[0m\u001b[1;33m]\u001b[0m \u001b[1;33m=\u001b[0m \u001b[1;33m[\u001b[0m\u001b[1;33m]\u001b[0m\u001b[1;33m\u001b[0m\u001b[1;33m\u001b[0m\u001b[0m\n\u001b[0;32m     62\u001b[0m     \u001b[1;32mfor\u001b[0m \u001b[0mlvals\u001b[0m\u001b[1;33m,\u001b[0m \u001b[0mrvals\u001b[0m\u001b[1;33m,\u001b[0m \u001b[0mlocs\u001b[0m\u001b[1;33m,\u001b[0m \u001b[0mleft_ea\u001b[0m\u001b[1;33m,\u001b[0m \u001b[0mright_ea\u001b[0m\u001b[1;33m,\u001b[0m \u001b[0mrblk\u001b[0m \u001b[1;32min\u001b[0m \u001b[0m_iter_block_pairs\u001b[0m\u001b[1;33m(\u001b[0m\u001b[0mleft\u001b[0m\u001b[1;33m,\u001b[0m \u001b[0mright\u001b[0m\u001b[1;33m)\u001b[0m\u001b[1;33m:\u001b[0m\u001b[1;33m\u001b[0m\u001b[1;33m\u001b[0m\u001b[0m\n\u001b[1;32m---> 63\u001b[1;33m         \u001b[0mres_values\u001b[0m \u001b[1;33m=\u001b[0m \u001b[0marray_op\u001b[0m\u001b[1;33m(\u001b[0m\u001b[0mlvals\u001b[0m\u001b[1;33m,\u001b[0m \u001b[0mrvals\u001b[0m\u001b[1;33m)\u001b[0m\u001b[1;33m\u001b[0m\u001b[1;33m\u001b[0m\u001b[0m\n\u001b[0m\u001b[0;32m     64\u001b[0m         \u001b[1;32mif\u001b[0m \u001b[0mleft_ea\u001b[0m \u001b[1;32mand\u001b[0m \u001b[1;32mnot\u001b[0m \u001b[0mright_ea\u001b[0m \u001b[1;32mand\u001b[0m \u001b[0mhasattr\u001b[0m\u001b[1;33m(\u001b[0m\u001b[0mres_values\u001b[0m\u001b[1;33m,\u001b[0m \u001b[1;34m\"reshape\"\u001b[0m\u001b[1;33m)\u001b[0m\u001b[1;33m:\u001b[0m\u001b[1;33m\u001b[0m\u001b[1;33m\u001b[0m\u001b[0m\n\u001b[0;32m     65\u001b[0m             \u001b[0mres_values\u001b[0m \u001b[1;33m=\u001b[0m \u001b[0mres_values\u001b[0m\u001b[1;33m.\u001b[0m\u001b[0mreshape\u001b[0m\u001b[1;33m(\u001b[0m\u001b[1;36m1\u001b[0m\u001b[1;33m,\u001b[0m \u001b[1;33m-\u001b[0m\u001b[1;36m1\u001b[0m\u001b[1;33m)\u001b[0m\u001b[1;33m\u001b[0m\u001b[1;33m\u001b[0m\u001b[0m\n",
      "\u001b[1;32mC:\\ProgramData\\Anaconda3\\lib\\site-packages\\pandas\\core\\ops\\array_ops.py\u001b[0m in \u001b[0;36marithmetic_op\u001b[1;34m(left, right, op)\u001b[0m\n\u001b[0;32m    220\u001b[0m         \u001b[0m_bool_arith_check\u001b[0m\u001b[1;33m(\u001b[0m\u001b[0mop\u001b[0m\u001b[1;33m,\u001b[0m \u001b[0mleft\u001b[0m\u001b[1;33m,\u001b[0m \u001b[0mright\u001b[0m\u001b[1;33m)\u001b[0m\u001b[1;33m\u001b[0m\u001b[1;33m\u001b[0m\u001b[0m\n\u001b[0;32m    221\u001b[0m \u001b[1;33m\u001b[0m\u001b[0m\n\u001b[1;32m--> 222\u001b[1;33m         \u001b[0mres_values\u001b[0m \u001b[1;33m=\u001b[0m \u001b[0m_na_arithmetic_op\u001b[0m\u001b[1;33m(\u001b[0m\u001b[0mleft\u001b[0m\u001b[1;33m,\u001b[0m \u001b[0mright\u001b[0m\u001b[1;33m,\u001b[0m \u001b[0mop\u001b[0m\u001b[1;33m)\u001b[0m\u001b[1;33m\u001b[0m\u001b[1;33m\u001b[0m\u001b[0m\n\u001b[0m\u001b[0;32m    223\u001b[0m \u001b[1;33m\u001b[0m\u001b[0m\n\u001b[0;32m    224\u001b[0m     \u001b[1;32mreturn\u001b[0m \u001b[0mres_values\u001b[0m\u001b[1;33m\u001b[0m\u001b[1;33m\u001b[0m\u001b[0m\n",
      "\u001b[1;32mC:\\ProgramData\\Anaconda3\\lib\\site-packages\\pandas\\core\\ops\\array_ops.py\u001b[0m in \u001b[0;36m_na_arithmetic_op\u001b[1;34m(left, right, op, is_cmp)\u001b[0m\n\u001b[0;32m    168\u001b[0m             \u001b[1;31m# Don't do this for comparisons, as that will handle complex numbers\u001b[0m\u001b[1;33m\u001b[0m\u001b[1;33m\u001b[0m\u001b[0m\n\u001b[0;32m    169\u001b[0m             \u001b[1;31m#  incorrectly, see GH#32047\u001b[0m\u001b[1;33m\u001b[0m\u001b[1;33m\u001b[0m\u001b[0m\n\u001b[1;32m--> 170\u001b[1;33m             \u001b[0mresult\u001b[0m \u001b[1;33m=\u001b[0m \u001b[0m_masked_arith_op\u001b[0m\u001b[1;33m(\u001b[0m\u001b[0mleft\u001b[0m\u001b[1;33m,\u001b[0m \u001b[0mright\u001b[0m\u001b[1;33m,\u001b[0m \u001b[0mop\u001b[0m\u001b[1;33m)\u001b[0m\u001b[1;33m\u001b[0m\u001b[1;33m\u001b[0m\u001b[0m\n\u001b[0m\u001b[0;32m    171\u001b[0m         \u001b[1;32melse\u001b[0m\u001b[1;33m:\u001b[0m\u001b[1;33m\u001b[0m\u001b[1;33m\u001b[0m\u001b[0m\n\u001b[0;32m    172\u001b[0m             \u001b[1;32mraise\u001b[0m\u001b[1;33m\u001b[0m\u001b[1;33m\u001b[0m\u001b[0m\n",
      "\u001b[1;32mC:\\ProgramData\\Anaconda3\\lib\\site-packages\\pandas\\core\\ops\\array_ops.py\u001b[0m in \u001b[0;36m_masked_arith_op\u001b[1;34m(x, y, op)\u001b[0m\n\u001b[0;32m    106\u001b[0m         \u001b[1;31m# See GH#5284, GH#5035, GH#19448 for historical reference\u001b[0m\u001b[1;33m\u001b[0m\u001b[1;33m\u001b[0m\u001b[0m\n\u001b[0;32m    107\u001b[0m         \u001b[1;32mif\u001b[0m \u001b[0mmask\u001b[0m\u001b[1;33m.\u001b[0m\u001b[0many\u001b[0m\u001b[1;33m(\u001b[0m\u001b[1;33m)\u001b[0m\u001b[1;33m:\u001b[0m\u001b[1;33m\u001b[0m\u001b[1;33m\u001b[0m\u001b[0m\n\u001b[1;32m--> 108\u001b[1;33m             \u001b[0mresult\u001b[0m\u001b[1;33m[\u001b[0m\u001b[0mmask\u001b[0m\u001b[1;33m]\u001b[0m \u001b[1;33m=\u001b[0m \u001b[0mop\u001b[0m\u001b[1;33m(\u001b[0m\u001b[0mxrav\u001b[0m\u001b[1;33m[\u001b[0m\u001b[0mmask\u001b[0m\u001b[1;33m]\u001b[0m\u001b[1;33m,\u001b[0m \u001b[0myrav\u001b[0m\u001b[1;33m[\u001b[0m\u001b[0mmask\u001b[0m\u001b[1;33m]\u001b[0m\u001b[1;33m)\u001b[0m\u001b[1;33m\u001b[0m\u001b[1;33m\u001b[0m\u001b[0m\n\u001b[0m\u001b[0;32m    109\u001b[0m \u001b[1;33m\u001b[0m\u001b[0m\n\u001b[0;32m    110\u001b[0m     \u001b[1;32melse\u001b[0m\u001b[1;33m:\u001b[0m\u001b[1;33m\u001b[0m\u001b[1;33m\u001b[0m\u001b[0m\n",
      "\u001b[1;31mTypeError\u001b[0m: unsupported operand type(s) for -: 'str' and 'str'"
     ]
    }
   ],
   "source": [
    "print(dataset.dtypes)\n",
    "dataset['duration'] = pd.to_numeric(dataset['duration'], errors='coerce')\n",
    "\n",
    "# Normalize the data\n",
    "dataset = (dataset - dataset.min()) / (dataset.max() - dataset.min())\n"
   ]
  },
  {
   "cell_type": "code",
   "execution_count": null,
   "id": "6fd4273a",
   "metadata": {},
   "outputs": [],
   "source": [
    "\n",
    "# Identify unique attack types and their frequency\n",
    "attack_type_counts = dataset[\"attack_category\"].value_counts()\n",
    "print(attack_type_counts)\n",
    "\n"
   ]
  },
  {
   "cell_type": "code",
   "execution_count": null,
   "id": "b37f28db",
   "metadata": {},
   "outputs": [],
   "source": []
  },
  {
   "cell_type": "code",
   "execution_count": null,
   "id": "98a63e79",
   "metadata": {},
   "outputs": [],
   "source": [
    "# Analyze the dataset using descriptive statistics\n",
    "print(dataset.describe())"
   ]
  },
  {
   "cell_type": "code",
   "execution_count": null,
   "id": "d84f960d",
   "metadata": {},
   "outputs": [],
   "source": [
    "import matplotlib.pyplot as plt\n",
    "\n",
    "# Plot histograms of each column\n",
    "dataset.hist(figsize=(20, 20))\n",
    "plt.show()\n"
   ]
  },
  {
   "cell_type": "code",
   "execution_count": null,
   "id": "9612eafd",
   "metadata": {},
   "outputs": [],
   "source": [
    "# Compute correlation coefficients for Dataset.txt\n",
    "print(dataset.corr())"
   ]
  },
  {
   "cell_type": "code",
   "execution_count": null,
   "id": "6e05caee",
   "metadata": {},
   "outputs": [],
   "source": [
    "# Compute correlation coefficients for Attack_types.txt\n",
    "print(attack_types.corr())"
   ]
  },
  {
   "cell_type": "code",
   "execution_count": null,
   "id": "2577b83c",
   "metadata": {},
   "outputs": [],
   "source": [
    "# Check for missing values in Dataset.txt\n",
    "print(dataset.isnull().sum())\n"
   ]
  },
  {
   "cell_type": "code",
   "execution_count": null,
   "id": "14863dcf",
   "metadata": {},
   "outputs": [],
   "source": [
    "\n",
    "dataset.fillna(dataset.mean(), inplace=True) # Impute missing values with mean\n"
   ]
  },
  {
   "cell_type": "code",
   "execution_count": null,
   "id": "c6c5c7a5",
   "metadata": {},
   "outputs": [],
   "source": [
    "# Identify outliers in the \"duration\" feature in Dataset.txt\n",
    "q1 = dataset['duration'].quantile(0.25)\n",
    "q3 = dataset['duration'].quantile(0.75)\n",
    "iqr = q3 - q1\n",
    "upper_bound = q3 + 1.5 * iqr\n",
    "outliers = dataset[dataset['duration'] > upper_bound]\n",
    "print(outliers)\n"
   ]
  },
  {
   "cell_type": "code",
   "execution_count": null,
   "id": "d44064db",
   "metadata": {},
   "outputs": [],
   "source": [
    "from sklearn.preprocessing import StandardScaler, MinMaxScaler\n",
    "# Remove duplicates\n",
    "dataset.drop_duplicates(inplace=True)\n",
    "print(dataset)"
   ]
  },
  {
   "cell_type": "markdown",
   "id": "4dd8fd5e",
   "metadata": {},
   "source": [
    "# 3. The dataset provided to you contains 23 different classes (attack types). You need toconvert it to 5-classes. (Hint: See the file “Attack_types.txt”)"
   ]
  },
  {
   "cell_type": "code",
   "execution_count": 16,
   "id": "44a0e483",
   "metadata": {},
   "outputs": [],
   "source": [
    "# Create a dictionary to map the 23 attack types to 5 classes\n",
    "attack_class_mapping = {\n",
    "    \"normal\": \"normal\",\n",
    "    \"back\": \"dos\",\n",
    "    \"buffer_overflow\": \"u2r\",\n",
    "    \"ftp_write\": \"r2l\",\n",
    "    \"guess_passwd\": \"r2l\",\n",
    "    \"imap\": \"r2l\",\n",
    "    \"ipsweep\": \"probe\",\n",
    "    \"land\": \"dos\",\n",
    "    \"loadmodule\": \"u2r\",\n",
    "    \"multihop\": \"r2l\",\n",
    "    \"neptune\": \"dos\",\n",
    "    \"nmap\": \"probe\",\n",
    "    \"perl\": \"u2r\",\n",
    "    \"phf\": \"r2l\",\n",
    "    \"pod\": \"dos\",\n",
    "    \"portsweep\": \"probe\",\n",
    "    \"rootkit\": \"u2r\",\n",
    "    \"satan\": \"probe\",\n",
    "    \"smurf\": \"dos\",\n",
    "    \"spy\": \"r2l\",\n",
    "    \"teardrop\": \"dos\",\n",
    "    \"warezclient\": \"r2l\",\n",
    "    \"warezmaster\": \"r2l\"\n",
    "}\n",
    "\n",
    "# Apply the mapping to the attack_category column\n",
    "dataset[\"attack_category\"] = dataset[\"attack_category\"].map(attack_class_mapping)\n"
   ]
  },
  {
   "cell_type": "code",
   "execution_count": 17,
   "id": "523ef48b",
   "metadata": {},
   "outputs": [
    {
     "name": "stdout",
     "output_type": "stream",
     "text": [
      "                   duration protocol_type service  src_bytes  dst_bytes hot  \\\n",
      "0 tcp ftp_data SF       491             0       0          0          0   0   \n",
      "  udp other    SF       146             0       0          0          0   0   \n",
      "  tcp private  S0         0             0       0          0          0   0   \n",
      "      http     SF       232          8153       0          0          0   0   \n",
      "               SF       199           420       0          0          0   0   \n",
      "\n",
      "                  num_failed_logins logged_in num_compromised root_shell  ...  \\\n",
      "0 tcp ftp_data SF                 0         0               0          0  ...   \n",
      "  udp other    SF                 0         0               0          0  ...   \n",
      "  tcp private  S0                 0         0               0          0  ...   \n",
      "      http     SF                 0         1               0          0  ...   \n",
      "               SF                 0         1               0          0  ...   \n",
      "\n",
      "                  dst_host_same_srv_rate dst_host_diff_srv_rate  \\\n",
      "0 tcp ftp_data SF                   0.17                   0.03   \n",
      "  udp other    SF                      0                    0.6   \n",
      "  tcp private  S0                    0.1                   0.05   \n",
      "      http     SF                      1                      0   \n",
      "               SF                      1                      0   \n",
      "\n",
      "                  dst_host_same_src_port_rate dst_host_srv_diff_host_rate  \\\n",
      "0 tcp ftp_data SF                        0.17                           0   \n",
      "  udp other    SF                        0.88                           0   \n",
      "  tcp private  S0                           0                           0   \n",
      "      http     SF                        0.03                        0.04   \n",
      "               SF                           0                           0   \n",
      "\n",
      "                  dst_host_serror_rate dst_host_srv_serror_rate  \\\n",
      "0 tcp ftp_data SF                    0                        0   \n",
      "  udp other    SF                    0                        0   \n",
      "  tcp private  S0                    1                        1   \n",
      "      http     SF                 0.03                     0.01   \n",
      "               SF                    0                        0   \n",
      "\n",
      "                  dst_host_rerror_rate dst_host_srv_rerror_rate  \\\n",
      "0 tcp ftp_data SF                 0.05                        0   \n",
      "  udp other    SF                    0                        0   \n",
      "  tcp private  S0                    0                        0   \n",
      "      http     SF                    0                     0.01   \n",
      "               SF                    0                        0   \n",
      "\n",
      "                  attack_category occurrence  \n",
      "0 tcp ftp_data SF          normal         20  \n",
      "  udp other    SF          normal         15  \n",
      "  tcp private  S0             dos         19  \n",
      "      http     SF          normal         21  \n",
      "               SF          normal         21  \n",
      "\n",
      "[5 rows x 39 columns]\n"
     ]
    }
   ],
   "source": [
    "print(dataset.head())"
   ]
  },
  {
   "cell_type": "markdown",
   "id": "65dafae3",
   "metadata": {},
   "source": [
    "# 4. Identify the most relevant features for classification using technique such as correlation analysis."
   ]
  },
  {
   "cell_type": "code",
   "execution_count": 18,
   "id": "72e1fee2",
   "metadata": {
    "scrolled": false
   },
   "outputs": [
    {
     "data": {
      "text/plain": [
       "<Axes: >"
      ]
     },
     "execution_count": 18,
     "metadata": {},
     "output_type": "execute_result"
    },
    {
     "data": {
      "image/png": "[encoded data removed]",
      "text/plain": [
       "<Figure size 640x480 with 2 Axes>"
      ]
     },
     "metadata": {},
     "output_type": "display_data"
    }
   ],
   "source": [
    "import seaborn as sns\n",
    "\n",
    "# calculate the correlation matrix\n",
    "corr_matrix = dataset.corr()\n",
    "\n",
    "# plot the heatmap\n",
    "sns.heatmap(corr_matrix, cmap=\"YlGnBu\")\n"
   ]
  },
  {
   "cell_type": "code",
   "execution_count": 19,
   "id": "2fc59025",
   "metadata": {},
   "outputs": [],
   "source": [
    "# select highly correlated features\n",
    "corr_threshold = 0.5\n",
    "high_corr_features = set()\n",
    "for i in range(len(corr_matrix.columns)):\n",
    "    for j in range(i):\n",
    "        if abs(corr_matrix.iloc[i, j]) > corr_threshold:\n",
    "            colname = corr_matrix.columns[i]\n",
    "            high_corr_features.add(colname)\n",
    "            \n",
    "# remove highly correlated features from the dataset\n",
    "dataset = dataset.drop(columns=high_corr_features)\n"
   ]
  },
  {
   "cell_type": "code",
   "execution_count": 20,
   "id": "de1e14ac",
   "metadata": {},
   "outputs": [
    {
     "data": {
      "text/plain": [
       "(125973, 39)"
      ]
     },
     "execution_count": 20,
     "metadata": {},
     "output_type": "execute_result"
    }
   ],
   "source": [
    "dataset.shape"
   ]
  },
  {
   "cell_type": "markdown",
   "id": "93cc07aa",
   "metadata": {},
   "source": [
    "# 5. The next step is to use the updated dataset for classification. Use the following algorithm to perform classification."
   ]
  },
  {
   "cell_type": "code",
   "execution_count": 21,
   "id": "2113f5bf",
   "metadata": {},
   "outputs": [
    {
     "name": "stdout",
     "output_type": "stream",
     "text": [
      "<class 'pandas.core.frame.DataFrame'>\n",
      "MultiIndex: 125973 entries, ('0', 'tcp', 'ftp_data', 'SF') to ('0', 'tcp', 'ftp_data', 'SF')\n",
      "Data columns (total 39 columns):\n",
      " #   Column                       Non-Null Count   Dtype \n",
      "---  ------                       --------------   ----- \n",
      " 0   duration                     125973 non-null  int32 \n",
      " 1   protocol_type                125973 non-null  object\n",
      " 2   service                      125973 non-null  object\n",
      " 3   src_bytes                    125973 non-null  int32 \n",
      " 4   dst_bytes                    125973 non-null  int32 \n",
      " 5   hot                          125973 non-null  object\n",
      " 6   num_failed_logins            125973 non-null  object\n",
      " 7   logged_in                    125973 non-null  object\n",
      " 8   num_compromised              125973 non-null  object\n",
      " 9   root_shell                   125973 non-null  object\n",
      " 10  su_attempted                 125973 non-null  object\n",
      " 11  num_root                     125973 non-null  object\n",
      " 12  num_file_creations           125973 non-null  object\n",
      " 13  num_shells                   125973 non-null  object\n",
      " 14  num_access_files             125973 non-null  object\n",
      " 15  num_outbound_cmds            125973 non-null  object\n",
      " 16  is_host_login                125973 non-null  object\n",
      " 17  is_guest_login               125973 non-null  object\n",
      " 18  count                        125973 non-null  object\n",
      " 19  srv_count                    125973 non-null  object\n",
      " 20  serror_rate                  125973 non-null  object\n",
      " 21  srv_serror_rate              125973 non-null  object\n",
      " 22  rerror_rate                  125973 non-null  object\n",
      " 23  srv_rerror_rate              125973 non-null  object\n",
      " 24  same_srv_rate                125973 non-null  object\n",
      " 25  diff_srv_rate                125973 non-null  object\n",
      " 26  srv_diff_host_rate           125973 non-null  object\n",
      " 27  dst_host_count               125973 non-null  object\n",
      " 28  dst_host_srv_count           125973 non-null  object\n",
      " 29  dst_host_same_srv_rate       125973 non-null  object\n",
      " 30  dst_host_diff_srv_rate       125973 non-null  object\n",
      " 31  dst_host_same_src_port_rate  125973 non-null  object\n",
      " 32  dst_host_srv_diff_host_rate  125973 non-null  object\n",
      " 33  dst_host_serror_rate         125973 non-null  object\n",
      " 34  dst_host_srv_serror_rate     125973 non-null  object\n",
      " 35  dst_host_rerror_rate         125973 non-null  object\n",
      " 36  dst_host_srv_rerror_rate     125973 non-null  object\n",
      " 37  attack_category              125973 non-null  object\n",
      " 38  occurrence                   125973 non-null  object\n",
      "dtypes: int32(3), object(36)\n",
      "memory usage: 36.7+ MB\n"
     ]
    }
   ],
   "source": [
    "dataset.info()"
   ]
  },
  {
   "cell_type": "code",
   "execution_count": 22,
   "id": "448b02a0",
   "metadata": {},
   "outputs": [],
   "source": [
    "import pandas as pd\n",
    "import numpy as np\n",
    "\n",
    "# Load the dataset\n",
    "dataset = pd.read_csv(\"Dataset.csv\")\n",
    "\n",
    "# Drop unnecessary columns\n",
    "dataset.drop([ \"protocol_type\", \"service\", \"flag\"], axis=1, inplace=True)\n",
    "\n",
    "# Convert categorical labels to binary labels\n",
    "normal_indices = dataset[dataset[\"attack_category\"] == \"normal\"].index\n",
    "dataset.loc[normal_indices, \"attack_category\"] = 0\n",
    "attack_indices = dataset[dataset[\"attack_category\"] != 0].index\n",
    "dataset.loc[attack_indices, \"attack_category\"] = 1\n",
    "\n",
    "# Convert data types\n",
    "dataset[\"duration\"] = dataset[\"duration\"].astype(int)\n",
    "dataset[\"src_bytes\"] = dataset[\"src_bytes\"].astype(int)\n",
    "dataset[\"dst_bytes\"] = dataset[\"dst_bytes\"].astype(int)\n",
    "\n",
    "# Normalize the data\n",
    "dataset = (dataset - dataset.min()) / (dataset.max() - dataset.min())\n",
    "\n",
    "# Store the preprocessed dataset in a new variable\n",
    "preprocessed_dataset = dataset.copy()\n"
   ]
  },
  {
   "cell_type": "code",
   "execution_count": 23,
   "id": "f3ed4b72",
   "metadata": {},
   "outputs": [],
   "source": [
    "preprocessed_dataset.to_csv('preprocessed_dataset.csv', index=False)\n"
   ]
  },
  {
   "cell_type": "markdown",
   "id": "acad0981",
   "metadata": {},
   "source": [
    "# b. Classification of Cyber Attacks Using K-Nearest Neighbors Algorithm The KNN algorithm will be implemented and trained using the preprocessed and selected features. Determine optimal value of k."
   ]
  },
  {
   "cell_type": "code",
   "execution_count": 24,
   "id": "b13be447",
   "metadata": {},
   "outputs": [
    {
     "name": "stdout",
     "output_type": "stream",
     "text": [
      "duration                            0\n",
      "src_bytes                           0\n",
      "dst_bytes                           0\n",
      "land                                0\n",
      "wrong_fragment                      0\n",
      "urgent                              0\n",
      "hot                                 0\n",
      "num_failed_logins                   0\n",
      "logged_in                           0\n",
      "num_compromised                     0\n",
      "root_shell                          0\n",
      "su_attempted                        0\n",
      "num_root                            0\n",
      "num_file_creations                  0\n",
      "num_shells                          0\n",
      "num_access_files                    0\n",
      "num_outbound_cmds              125973\n",
      "is_host_login                       0\n",
      "is_guest_login                      0\n",
      "count                               0\n",
      "srv_count                           0\n",
      "serror_rate                         0\n",
      "srv_serror_rate                     0\n",
      "rerror_rate                         0\n",
      "srv_rerror_rate                     0\n",
      "same_srv_rate                       0\n",
      "diff_srv_rate                       0\n",
      "srv_diff_host_rate                  0\n",
      "dst_host_count                      0\n",
      "dst_host_srv_count                  0\n",
      "dst_host_same_srv_rate              0\n",
      "dst_host_diff_srv_rate              0\n",
      "dst_host_same_src_port_rate         0\n",
      "dst_host_srv_diff_host_rate         0\n",
      "dst_host_serror_rate                0\n",
      "dst_host_srv_serror_rate            0\n",
      "dst_host_rerror_rate                0\n",
      "dst_host_srv_rerror_rate            0\n",
      "attack_category                     0\n",
      "occurance                           0\n",
      "dtype: int64\n"
     ]
    }
   ],
   "source": [
    "print(dataset.isna().sum())"
   ]
  },
  {
   "cell_type": "code",
   "execution_count": 25,
   "id": "58a5d81d",
   "metadata": {},
   "outputs": [],
   "source": [
    "dataset.dropna(inplace=True)\n"
   ]
  },
  {
   "cell_type": "code",
   "execution_count": 26,
   "id": "493acc54",
   "metadata": {},
   "outputs": [
    {
     "name": "stdout",
     "output_type": "stream",
     "text": [
      "duration                       0.0\n",
      "src_bytes                      0.0\n",
      "dst_bytes                      0.0\n",
      "land                           0.0\n",
      "wrong_fragment                 0.0\n",
      "urgent                         0.0\n",
      "hot                            0.0\n",
      "num_failed_logins              0.0\n",
      "logged_in                      0.0\n",
      "num_compromised                0.0\n",
      "root_shell                     0.0\n",
      "su_attempted                   0.0\n",
      "num_root                       0.0\n",
      "num_file_creations             0.0\n",
      "num_shells                     0.0\n",
      "num_access_files               0.0\n",
      "num_outbound_cmds              0.0\n",
      "is_host_login                  0.0\n",
      "is_guest_login                 0.0\n",
      "count                          0.0\n",
      "srv_count                      0.0\n",
      "serror_rate                    0.0\n",
      "srv_serror_rate                0.0\n",
      "rerror_rate                    0.0\n",
      "srv_rerror_rate                0.0\n",
      "same_srv_rate                  0.0\n",
      "diff_srv_rate                  0.0\n",
      "srv_diff_host_rate             0.0\n",
      "dst_host_count                 0.0\n",
      "dst_host_srv_count             0.0\n",
      "dst_host_same_srv_rate         0.0\n",
      "dst_host_diff_srv_rate         0.0\n",
      "dst_host_same_src_port_rate    0.0\n",
      "dst_host_srv_diff_host_rate    0.0\n",
      "dst_host_serror_rate           0.0\n",
      "dst_host_srv_serror_rate       0.0\n",
      "dst_host_rerror_rate           0.0\n",
      "dst_host_srv_rerror_rate       0.0\n",
      "attack_category                0.0\n",
      "occurance                      0.0\n",
      "dtype: float64\n"
     ]
    }
   ],
   "source": [
    "print(dataset.isna().sum())"
   ]
  },
  {
   "cell_type": "code",
   "execution_count": 27,
   "id": "e6aa7933",
   "metadata": {},
   "outputs": [],
   "source": [
    "dataset.fillna(dataset.mean(), inplace=True)"
   ]
  },
  {
   "cell_type": "code",
   "execution_count": 28,
   "id": "5f4f6486",
   "metadata": {},
   "outputs": [
    {
     "ename": "TypeError",
     "evalue": "ufunc 'isinf' not supported for the input types, and the inputs could not be safely coerced to any supported types according to the casting rule ''safe''",
     "output_type": "error",
     "traceback": [
      "\u001b[1;31m---------------------------------------------------------------------------\u001b[0m",
      "\u001b[1;31mTypeError\u001b[0m                                 Traceback (most recent call last)",
      "\u001b[1;32m~\\AppData\\Local\\Temp\\ipykernel_6920\\1846806412.py\u001b[0m in \u001b[0;36m<module>\u001b[1;34m\u001b[0m\n\u001b[1;32m----> 1\u001b[1;33m \u001b[0mprint\u001b[0m\u001b[1;33m(\u001b[0m\u001b[0mnp\u001b[0m\u001b[1;33m.\u001b[0m\u001b[0misinf\u001b[0m\u001b[1;33m(\u001b[0m\u001b[0mdataset\u001b[0m\u001b[1;33m)\u001b[0m\u001b[1;33m.\u001b[0m\u001b[0msum\u001b[0m\u001b[1;33m(\u001b[0m\u001b[1;33m)\u001b[0m\u001b[1;33m)\u001b[0m\u001b[1;33m\u001b[0m\u001b[1;33m\u001b[0m\u001b[0m\n\u001b[0m",
      "\u001b[1;32mC:\\ProgramData\\Anaconda3\\lib\\site-packages\\pandas\\core\\generic.py\u001b[0m in \u001b[0;36m__array_ufunc__\u001b[1;34m(self, ufunc, method, *inputs, **kwargs)\u001b[0m\n\u001b[0;32m   2099\u001b[0m         \u001b[0mself\u001b[0m\u001b[1;33m,\u001b[0m \u001b[0mufunc\u001b[0m\u001b[1;33m:\u001b[0m \u001b[0mnp\u001b[0m\u001b[1;33m.\u001b[0m\u001b[0mufunc\u001b[0m\u001b[1;33m,\u001b[0m \u001b[0mmethod\u001b[0m\u001b[1;33m:\u001b[0m \u001b[0mstr\u001b[0m\u001b[1;33m,\u001b[0m \u001b[1;33m*\u001b[0m\u001b[0minputs\u001b[0m\u001b[1;33m:\u001b[0m \u001b[0mAny\u001b[0m\u001b[1;33m,\u001b[0m \u001b[1;33m**\u001b[0m\u001b[0mkwargs\u001b[0m\u001b[1;33m:\u001b[0m \u001b[0mAny\u001b[0m\u001b[1;33m\u001b[0m\u001b[1;33m\u001b[0m\u001b[0m\n\u001b[0;32m   2100\u001b[0m     ):\n\u001b[1;32m-> 2101\u001b[1;33m         \u001b[1;32mreturn\u001b[0m \u001b[0marraylike\u001b[0m\u001b[1;33m.\u001b[0m\u001b[0marray_ufunc\u001b[0m\u001b[1;33m(\u001b[0m\u001b[0mself\u001b[0m\u001b[1;33m,\u001b[0m \u001b[0mufunc\u001b[0m\u001b[1;33m,\u001b[0m \u001b[0mmethod\u001b[0m\u001b[1;33m,\u001b[0m \u001b[1;33m*\u001b[0m\u001b[0minputs\u001b[0m\u001b[1;33m,\u001b[0m \u001b[1;33m**\u001b[0m\u001b[0mkwargs\u001b[0m\u001b[1;33m)\u001b[0m\u001b[1;33m\u001b[0m\u001b[1;33m\u001b[0m\u001b[0m\n\u001b[0m\u001b[0;32m   2102\u001b[0m \u001b[1;33m\u001b[0m\u001b[0m\n\u001b[0;32m   2103\u001b[0m     \u001b[1;31m# ----------------------------------------------------------------------\u001b[0m\u001b[1;33m\u001b[0m\u001b[1;33m\u001b[0m\u001b[0m\n",
      "\u001b[1;32mC:\\ProgramData\\Anaconda3\\lib\\site-packages\\pandas\\core\\arraylike.py\u001b[0m in \u001b[0;36marray_ufunc\u001b[1;34m(self, ufunc, method, *inputs, **kwargs)\u001b[0m\n\u001b[0;32m    403\u001b[0m             \u001b[1;31m# take this path if there are no kwargs\u001b[0m\u001b[1;33m\u001b[0m\u001b[1;33m\u001b[0m\u001b[0m\n\u001b[0;32m    404\u001b[0m             \u001b[0mmgr\u001b[0m \u001b[1;33m=\u001b[0m \u001b[0minputs\u001b[0m\u001b[1;33m[\u001b[0m\u001b[1;36m0\u001b[0m\u001b[1;33m]\u001b[0m\u001b[1;33m.\u001b[0m\u001b[0m_mgr\u001b[0m\u001b[1;33m\u001b[0m\u001b[1;33m\u001b[0m\u001b[0m\n\u001b[1;32m--> 405\u001b[1;33m             \u001b[0mresult\u001b[0m \u001b[1;33m=\u001b[0m \u001b[0mmgr\u001b[0m\u001b[1;33m.\u001b[0m\u001b[0mapply\u001b[0m\u001b[1;33m(\u001b[0m\u001b[0mgetattr\u001b[0m\u001b[1;33m(\u001b[0m\u001b[0mufunc\u001b[0m\u001b[1;33m,\u001b[0m \u001b[0mmethod\u001b[0m\u001b[1;33m)\u001b[0m\u001b[1;33m)\u001b[0m\u001b[1;33m\u001b[0m\u001b[1;33m\u001b[0m\u001b[0m\n\u001b[0m\u001b[0;32m    406\u001b[0m         \u001b[1;32melse\u001b[0m\u001b[1;33m:\u001b[0m\u001b[1;33m\u001b[0m\u001b[1;33m\u001b[0m\u001b[0m\n\u001b[0;32m    407\u001b[0m             \u001b[1;31m# otherwise specific ufunc methods (eg np.<ufunc>.accumulate(..))\u001b[0m\u001b[1;33m\u001b[0m\u001b[1;33m\u001b[0m\u001b[0m\n",
      "\u001b[1;32mC:\\ProgramData\\Anaconda3\\lib\\site-packages\\pandas\\core\\internals\\managers.py\u001b[0m in \u001b[0;36mapply\u001b[1;34m(self, f, align_keys, ignore_failures, **kwargs)\u001b[0m\n\u001b[0;32m    300\u001b[0m             \u001b[1;32mtry\u001b[0m\u001b[1;33m:\u001b[0m\u001b[1;33m\u001b[0m\u001b[1;33m\u001b[0m\u001b[0m\n\u001b[0;32m    301\u001b[0m                 \u001b[1;32mif\u001b[0m \u001b[0mcallable\u001b[0m\u001b[1;33m(\u001b[0m\u001b[0mf\u001b[0m\u001b[1;33m)\u001b[0m\u001b[1;33m:\u001b[0m\u001b[1;33m\u001b[0m\u001b[1;33m\u001b[0m\u001b[0m\n\u001b[1;32m--> 302\u001b[1;33m                     \u001b[0mapplied\u001b[0m \u001b[1;33m=\u001b[0m \u001b[0mb\u001b[0m\u001b[1;33m.\u001b[0m\u001b[0mapply\u001b[0m\u001b[1;33m(\u001b[0m\u001b[0mf\u001b[0m\u001b[1;33m,\u001b[0m \u001b[1;33m**\u001b[0m\u001b[0mkwargs\u001b[0m\u001b[1;33m)\u001b[0m\u001b[1;33m\u001b[0m\u001b[1;33m\u001b[0m\u001b[0m\n\u001b[0m\u001b[0;32m    303\u001b[0m                 \u001b[1;32melse\u001b[0m\u001b[1;33m:\u001b[0m\u001b[1;33m\u001b[0m\u001b[1;33m\u001b[0m\u001b[0m\n\u001b[0;32m    304\u001b[0m                     \u001b[0mapplied\u001b[0m \u001b[1;33m=\u001b[0m \u001b[0mgetattr\u001b[0m\u001b[1;33m(\u001b[0m\u001b[0mb\u001b[0m\u001b[1;33m,\u001b[0m \u001b[0mf\u001b[0m\u001b[1;33m)\u001b[0m\u001b[1;33m(\u001b[0m\u001b[1;33m**\u001b[0m\u001b[0mkwargs\u001b[0m\u001b[1;33m)\u001b[0m\u001b[1;33m\u001b[0m\u001b[1;33m\u001b[0m\u001b[0m\n",
      "\u001b[1;32mC:\\ProgramData\\Anaconda3\\lib\\site-packages\\pandas\\core\\internals\\blocks.py\u001b[0m in \u001b[0;36mapply\u001b[1;34m(self, func, **kwargs)\u001b[0m\n\u001b[0;32m    400\u001b[0m         \u001b[0mone\u001b[0m\u001b[1;33m\u001b[0m\u001b[1;33m\u001b[0m\u001b[0m\n\u001b[0;32m    401\u001b[0m         \"\"\"\n\u001b[1;32m--> 402\u001b[1;33m         \u001b[0mresult\u001b[0m \u001b[1;33m=\u001b[0m \u001b[0mfunc\u001b[0m\u001b[1;33m(\u001b[0m\u001b[0mself\u001b[0m\u001b[1;33m.\u001b[0m\u001b[0mvalues\u001b[0m\u001b[1;33m,\u001b[0m \u001b[1;33m**\u001b[0m\u001b[0mkwargs\u001b[0m\u001b[1;33m)\u001b[0m\u001b[1;33m\u001b[0m\u001b[1;33m\u001b[0m\u001b[0m\n\u001b[0m\u001b[0;32m    403\u001b[0m \u001b[1;33m\u001b[0m\u001b[0m\n\u001b[0;32m    404\u001b[0m         \u001b[1;32mreturn\u001b[0m \u001b[0mself\u001b[0m\u001b[1;33m.\u001b[0m\u001b[0m_split_op_result\u001b[0m\u001b[1;33m(\u001b[0m\u001b[0mresult\u001b[0m\u001b[1;33m)\u001b[0m\u001b[1;33m\u001b[0m\u001b[1;33m\u001b[0m\u001b[0m\n",
      "\u001b[1;31mTypeError\u001b[0m: ufunc 'isinf' not supported for the input types, and the inputs could not be safely coerced to any supported types according to the casting rule ''safe''"
     ]
    }
   ],
   "source": [
    "print(np.isinf(dataset).sum())\n"
   ]
  },
  {
   "cell_type": "code",
   "execution_count": null,
   "id": "0bd3fd03",
   "metadata": {},
   "outputs": [],
   "source": []
  },
  {
   "cell_type": "code",
   "execution_count": null,
   "id": "b6406f2a",
   "metadata": {},
   "outputs": [],
   "source": [
    "import pandas as pd\n",
    "import numpy as np\n",
    "from sklearn.impute import SimpleImputer\n",
    "from sklearn.model_selection import train_test_split\n",
    "from sklearn.neighbors import KNeighborsClassifier\n",
    "from sklearn.metrics import accuracy_score\n",
    "\n",
    "# Load the dataset\n",
    "dataset = pd.read_csv(\"preprocessed_dataset.csv\")\n",
    "\n",
    "# Separate the features and the target\n",
    "X = dataset.drop([\"attack_category\"], axis=1)\n",
    "y = dataset[\"attack_category\"]\n",
    "\n",
    "# Split the dataset into training and testing sets\n",
    "X_train, X_test, y_train, y_test = train_test_split(X, y, test_size=0.2, random_state=42)\n",
    "\n",
    "# Impute missing values\n",
    "imputer = SimpleImputer()\n",
    "X_train = imputer.fit_transform(X_train)\n",
    "X_test = imputer.transform(X_test)\n",
    "\n",
    "# Train the KNN classifier\n",
    "best_accuracy = 0\n",
    "best_k = 3\n",
    "for k in range(1, 21):\n",
    "    knn = KNeighborsClassifier(n_neighbors=k)\n",
    "    knn.fit(X_train, y_train)\n",
    "    y_pred = knn.predict(X_test)\n",
    "    accuracy = accuracy_score(y_test, y_pred)\n",
    "    if accuracy > best_accuracy:\n",
    "        best_accuracy = accuracy\n",
    "        best_k = k\n",
    "\n",
    "print(\"Best k:\", best_k)\n",
    "print(\"Best accuracy:\", best_accuracy)\n"
   ]
  },
  {
   "cell_type": "markdown",
   "id": "c4542d7d",
   "metadata": {},
   "source": [
    "# a. Classification of Cyber Attacks Using Decision Tree Algorithm A decision tree algorithm will be used to develop a classification model. The model will be trained on the preprocessed dataset and its performance will be evaluated using appropriate metrics such as accuracy, precision, recall, and F1 score."
   ]
  },
  {
   "cell_type": "code",
   "execution_count": null,
   "id": "0ebe795a",
   "metadata": {},
   "outputs": [],
   "source": [
    "from sklearn import tree\n",
    "\n",
    "from sklearn.impute import SimpleImputer\n",
    "# Visualization imports\n",
    "import matplotlib.pyplot as plt\n",
    "import seaborn as sns\n",
    "%matplotlib inline\n",
    "\n",
    "\n",
    "from sklearn.preprocessing import LabelEncoder\n",
    "from sklearn.model_selection import train_test_split\n",
    "from sklearn import tree\n",
    "from sklearn.tree import DecisionTreeClassifier, plot_tree\n",
    "from sklearn.metrics import accuracy_score"
   ]
  },
  {
   "cell_type": "code",
   "execution_count": null,
   "id": "d84a2d92",
   "metadata": {},
   "outputs": [],
   "source": []
  },
  {
   "cell_type": "code",
   "execution_count": null,
   "id": "9d7629ba",
   "metadata": {},
   "outputs": [],
   "source": []
  },
  {
   "cell_type": "code",
   "execution_count": null,
   "id": "6af7250e",
   "metadata": {},
   "outputs": [],
   "source": []
  },
  {
   "cell_type": "code",
   "execution_count": null,
   "id": "597e5874",
   "metadata": {},
   "outputs": [],
   "source": []
  },
  {
   "cell_type": "code",
   "execution_count": null,
   "id": "5a53bddc",
   "metadata": {},
   "outputs": [],
   "source": []
  },
  {
   "cell_type": "code",
   "execution_count": null,
   "id": "4bc2d109",
   "metadata": {},
   "outputs": [],
   "source": []
  },
  {
   "cell_type": "code",
   "execution_count": null,
   "id": "d925ab82",
   "metadata": {},
   "outputs": [],
   "source": []
  },
  {
   "cell_type": "code",
   "execution_count": null,
   "id": "359cff53",
   "metadata": {},
   "outputs": [],
   "source": []
  },
  {
   "cell_type": "code",
   "execution_count": null,
   "id": "949e62f2",
   "metadata": {},
   "outputs": [],
   "source": []
  },
  {
   "cell_type": "code",
   "execution_count": null,
   "id": "77db6449",
   "metadata": {},
   "outputs": [],
   "source": []
  },
  {
   "cell_type": "code",
   "execution_count": null,
   "id": "9cfad204",
   "metadata": {},
   "outputs": [],
   "source": []
  },
  {
   "cell_type": "code",
   "execution_count": null,
   "id": "8cda2200",
   "metadata": {},
   "outputs": [],
   "source": []
  },
  {
   "cell_type": "code",
   "execution_count": null,
   "id": "fcf438af",
   "metadata": {},
   "outputs": [],
   "source": []
  },
  {
   "cell_type": "code",
   "execution_count": null,
   "id": "631cf164",
   "metadata": {},
   "outputs": [],
   "source": []
  },
  {
   "cell_type": "code",
   "execution_count": null,
   "id": "c31adaf8",
   "metadata": {},
   "outputs": [],
   "source": []
  },
  {
   "cell_type": "code",
   "execution_count": null,
   "id": "d1b03454",
   "metadata": {},
   "outputs": [],
   "source": []
  },
  {
   "cell_type": "code",
   "execution_count": null,
   "id": "0e41da0e",
   "metadata": {},
   "outputs": [],
   "source": []
  },
  {
   "cell_type": "code",
   "execution_count": null,
   "id": "ddebba8a",
   "metadata": {},
   "outputs": [],
   "source": []
  },
  {
   "cell_type": "code",
   "execution_count": null,
   "id": "5842c37c",
   "metadata": {},
   "outputs": [],
   "source": []
  },
  {
   "cell_type": "code",
   "execution_count": null,
   "id": "727a3ed4",
   "metadata": {},
   "outputs": [],
   "source": []
  },
  {
   "cell_type": "code",
   "execution_count": null,
   "id": "a1b1cf5e",
   "metadata": {},
   "outputs": [],
   "source": []
  },
  {
   "cell_type": "code",
   "execution_count": null,
   "id": "82fda907",
   "metadata": {},
   "outputs": [],
   "source": []
  },
  {
   "cell_type": "code",
   "execution_count": null,
   "id": "fbf1e4c6",
   "metadata": {},
   "outputs": [],
   "source": []
  },
  {
   "cell_type": "code",
   "execution_count": null,
   "id": "e4677f4e",
   "metadata": {},
   "outputs": [],
   "source": []
  },
  {
   "cell_type": "code",
   "execution_count": null,
   "id": "84e5caf7",
   "metadata": {},
   "outputs": [],
   "source": []
  },
  {
   "cell_type": "markdown",
   "id": "582a28e4",
   "metadata": {},
   "source": [
    "# c. Classification of Cyber Attacks Using Artificial Neural Networks (ANN)"
   ]
  },
  {
   "cell_type": "code",
   "execution_count": null,
   "id": "233a03d2",
   "metadata": {},
   "outputs": [],
   "source": []
  }
 ],
 "metadata": {
  "kernelspec": {
   "display_name": "Python 3 (ipykernel)",
   "language": "python",
   "name": "python3"
  },
  "language_info": {
   "codemirror_mode": {
    "name": "ipython",
    "version": 3
   },
   "file_extension": ".py",
   "mimetype": "text/x-python",
   "name": "python",
   "nbconvert_exporter": "python",
   "pygments_lexer": "ipython3",
   "version": "3.9.13"
  }
 },
 "nbformat": 4,
 "nbformat_minor": 5
}
